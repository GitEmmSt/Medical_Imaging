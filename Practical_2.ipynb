{
  "nbformat": 4,
  "nbformat_minor": 0,
  "metadata": {
    "kernelspec": {
      "display_name": "Python 3 (ipykernel)",
      "language": "python",
      "name": "python3"
    },
    "language_info": {
      "codemirror_mode": {
        "name": "ipython",
        "version": 3
      },
      "file_extension": ".py",
      "mimetype": "text/x-python",
      "name": "python",
      "nbconvert_exporter": "python",
      "pygments_lexer": "ipython3",
      "version": "3.9.7"
    },
    "colab": {
      "name": "Practical_2.ipynb",
      "provenance": [],
      "include_colab_link": true
    }
  },
  "cells": [
    {
      "cell_type": "markdown",
      "metadata": {
        "id": "view-in-github",
        "colab_type": "text"
      },
      "source": [
        "<a href=\"https://colab.research.google.com/github/GitEmmSt/Medical_Imaging/blob/main/Practical_2.ipynb\" target=\"_parent\"><img src=\"https://colab.research.google.com/assets/colab-badge.svg\" alt=\"Open In Colab\"/></a>"
      ]
    },
    {
      "cell_type": "code",
      "source": [
        "from google.colab import drive\n",
        "drive.mount('/content/drive')"
      ],
      "metadata": {
        "colab": {
          "base_uri": "https://localhost:8080/"
        },
        "id": "NC3VvCydvlgb",
        "outputId": "e945c0cb-84f2-4f10-ac6a-01e373e2a82b"
      },
      "execution_count": 1,
      "outputs": [
        {
          "output_type": "stream",
          "name": "stdout",
          "text": [
            "Mounted at /content/drive\n"
          ]
        }
      ]
    },
    {
      "cell_type": "code",
      "source": [
        "%cd /content/drive/MyDrive/Medical Imaging/practical_session_2"
      ],
      "metadata": {
        "colab": {
          "base_uri": "https://localhost:8080/"
        },
        "id": "Gz9B3OsqvnyT",
        "outputId": "8e6acc09-75d0-4420-fa26-3d67f55073b8"
      },
      "execution_count": 2,
      "outputs": [
        {
          "output_type": "stream",
          "name": "stdout",
          "text": [
            "/content/drive/MyDrive/Medical Imaging/practical_session_2\n"
          ]
        }
      ]
    },
    {
      "cell_type": "markdown",
      "metadata": {
        "id": "-MIIla7YGQoX"
      },
      "source": [
        "# <center>Medical Imaging</center><br><center>Practical session 2: Monte Carlo simulation (19/10/2021)</center>\n",
        "***\n",
        "*Charlotte Thyssen, Jens Maebe, Stefaan Vandenberghe* <br>\n",
        "*MEDISIP, Ghent University* <br>"
      ]
    },
    {
      "cell_type": "markdown",
      "metadata": {
        "id": "fV73SNi7GQoi"
      },
      "source": [
        "# General\n",
        "In total, there will be 4 practical sessions. For every session you should hand in a report **in groups of 2**. These reports will count for 5 out of 20 points for the exam. The topics of the sessions:\n",
        "\n",
        "1. Image reconstruction in tomography, CT (25%)\t\n",
        "\n",
        "2. Monte Carlo simulations, SPECT (25%)\t\n",
        "\n",
        "3. Image processing part I (25%)\n",
        "\n",
        "4. Image processing part II (25%)\n",
        "\n",
        "***\n",
        "Report (this notebook) due 2 weeks after session\n",
        "\n",
        "\n",
        "- **Concise** and **to the point** answers to the questions\n",
        "\n",
        "- Show that you understood what was going on and what the purpose of the exercise was\n",
        "\n",
        "- Illustrate with figures (do not forget labels, legend, colorbar etc.)\n",
        "\n",
        "- Hand in your notebook (also add the HTML file, File -> Download as -> HTML) via UFORA (UGent) or Canvas (VUB)\n",
        "\n",
        "***\n",
        "We are here to help you: ask questions!\n",
        "- During the sessions\n",
        "- Via mail:\n",
        "    - cathysse.thyssen@ugent.be\n",
        "    - jens.maebe@ugent.be\n",
        "    \n",
        "\n",
        "**Strict deadline for this session: 1 November 2021 at 23:59**."
      ]
    },
    {
      "cell_type": "markdown",
      "metadata": {
        "id": "Vjn6R6HyGQo2"
      },
      "source": [
        "# Notebook\n",
        "This practical session includes a number of pre-defined functions for you to make use of. **You do not need to change these in any way.** Make sure to check the expected input/output variables for these functions when you use them in your code. They are declared during their relevant sections. Also make sure you have `numpy` and `matplotlib` installed and run the cell below in order to import them."
      ]
    },
    {
      "cell_type": "code",
      "metadata": {
        "id": "MIaJ9NaHGQo4"
      },
      "source": [
        "import numpy as np\n",
        "import matplotlib.pyplot as plt"
      ],
      "execution_count": null,
      "outputs": []
    },
    {
      "cell_type": "markdown",
      "metadata": {
        "id": "lWTWzNWcGQo8"
      },
      "source": [
        "# 1. Purpose\n",
        "\n",
        "The purpose of this exercise session is to obtain insight in the different steps involved in the Monte Carlo (MC) simulation of a Single Photon Emission Computed Tomography (SPECT) scanner. We will use MC techniques to simulate a SPECT acquisition, instead of using analytical forward projections."
      ]
    },
    {
      "cell_type": "markdown",
      "metadata": {
        "id": "KM6OGcwkGQo-"
      },
      "source": [
        "# 2. Background: the SPECT camera\n",
        "\n",
        "A SPECT scanner measures projections of the distribution of a pharmacon, labeled with a radioactive isotope, in the body. By measuring projections along different angles, a sinogram is obtained that can be reconstructed to a 3D image (also see the previous practicum). Since the labeled pharmacon is subject to a certain metabolism in the patient, a 3D image of the physiology can be obtained with a SPECT camera. The technique is thus complementary to a CT scan, which images only anatomy.\n",
        "\n",
        "As shown in Figure 1, three major components are involved in a SPECT acquisition. In order to obtain a measurement, we first need a **source** of photons, usually a patient injected with a radiotracer. Next we need a photon **detector** to measure the photons that leave the patient’s body. A third essential component of the gamma camera is the **collimator**. This is needed to sort out the desired direction. Many types of collimators exist, such as the parallel-hole collimator, the pinhole collimator, fan-beam collimators, etc, each with their own advantages and disadvantages. In the case of a parallel hole collimator, we sort out the direction perpendicular to the detector surface.\n",
        "\n",
        "A simple parallel hole collimator would be made from a lead slab of material with parallel holes drilled through this plate. These holes can be hexagonal, square or round. The detector is a scintillator crystal which converts gamma photons to visible light. The light output can then be amplified into a detectable signal by photomultipliers and processed by a computer, which forms the sinogram.\n",
        "\n",
        "<table>\n",
        "    <tr>\n",
        "        <td><img src=\"images/SPECT_parts.jpg\" width=\"300\"/><figcaption><center>(a)</center></figcaption></td>\n",
        "        <td><img src=\"images/SPECT_scanner.jpg\" width=\"300\"/><figcaption><center>(b)</center></figcaption></td>\n",
        "    </tr>\n",
        "</table>\n",
        "\n",
        "<center><i>Figure 1: (a) The different parts of a gamma camera. (b) A modern SPECT scanner with two heads.</i></center>"
      ]
    },
    {
      "cell_type": "markdown",
      "metadata": {
        "id": "lIzvE40NGQpB"
      },
      "source": [
        "# 3. Monte Carlo simulations\n",
        "\n",
        "Monte Carlo simulations are widely used in physics and mathematics when the analytical calculation of a result is too difficult or sometimes even impossible to compute. The method is named after the Monte Carlo Casino, because it relies on repeated **random sampling** or educated guesses to compute a numerical result.\n",
        "\n",
        "The first random number we will use in our SPECT simulator will be used to pick a random point of photon emission, given a certain source density map.\n",
        "\n",
        "## 3.1. Sampling of the source\n",
        "\n",
        "The activity distribution in a patient can be represented by voxels with linear index ($j\\in1···N$) with a certain value ($n_j$) representing the true activity in an arbitrary unit. The first step in our MC simulation will be to randomly select one voxel, taking into account its activity (a higher activity means more photons should originate from that location). The activity distribution can be considered as a probability density function (PDF): the probability of emission in one voxel will be proportional to its activity $n_j$.\n",
        "\n",
        "In order to simulate these emissions, we need to sample the PDF. We do this by using the cumulative probability density (CPD), obtained by integrating the PDF. In the case of a discrete system, we have:\n",
        "\n",
        "$$CPD(j) = \\sum_{k=1}^{j}{n_k}$$\n",
        "\n",
        "Next, we normalize the CPD to 1 by dividing by CPD(N). We can now select a random number $r_1$ between 0 and 1, and can relate this number to a voxel by scaling it back to the index using the CPD (see figure 2).\n",
        "\n",
        "<table>\n",
        "    <tr>\n",
        "        <td><img src=\"images/vox_phantom.jpg\" width=\"300\"/><figcaption><center>(a)</center></figcaption></td>\n",
        "        <td><img src=\"images/pdf.jpg\" width=\"300\"/><figcaption><center>(b)</center></figcaption></td>\n",
        "        <td><img src=\"images/cpd.jpg\" width=\"300\"/><figcaption><center>(c)</center></figcaption></td>\n",
        "    </tr>\n",
        "</table>\n",
        "\n",
        "*Figure 2: (a) Representation of the activity distribution by a voxelized source. (b) The activity represented as a probability density function (PDF). (c) The cumulative probability density (CPD) on which a voxel is chosen from a random number $r_1$.*"
      ]
    },
    {
      "cell_type": "markdown",
      "metadata": {
        "id": "9_d46QhCGQpV"
      },
      "source": [
        "## <font color='blue'>Exercise 1: sample a uniform cylinder</font>\n",
        "\n",
        "Read in the phantom \"phantoms/cyl_25.img\" in `np.float32` format using the `read_phantom` function provided below. The dimensions are 128 × 128 × 128 voxels. `show_phantom` can be used to visualize the phantom. Create and normalize the CPD from this phantom and then sample the source n times. **Because pure Python loops are slow, you should use `numpy` to sample n voxels at once (allowing for repetition) without the use of a for loop.** Use the sampled voxels to fill a new 128 × 128 × 128 image where each voxel value equals the amount of times this voxel was sampled.\n",
        "\n",
        "Sample the source n = 100, 200, 300, ..., 9900, 10000 times and for each run, calculate the mean and standard deviation of the sampled image in order to make a plot of the mean as a function of the standard deviation. **Make sure to calculate the metrics only on the support (where the phantom is defined, i.e. different from zero).** Visualize the sampled image for different sample counts with `show_phantom` and compare to the original phantom. \n",
        "\n",
        "What relationship do you observe between the mean and the standard deviation and explain why?\n",
        "\n",
        "### <font color='blue'>Please include in your notebook:</font>\n",
        "- A few sampled images for different sample counts n (displayed with `show phantom`).\n",
        "- A plot of mean (y-axis) versus standard deviation (x-axis).\n",
        "- The mathematical relationship observed in this plot.\n",
        "- An explanation for why you observe this relationship."
      ]
    },
    {
      "cell_type": "markdown",
      "metadata": {
        "id": "glt2Eez-GQpX"
      },
      "source": [
        "### Provided functions:"
      ]
    },
    {
      "cell_type": "code",
      "metadata": {
        "id": "OQAgHAloGQpb"
      },
      "source": [
        "def read_phantom(path, shape, dtype):\n",
        "    with open(path, 'rb') as f:\n",
        "        phantom = np.fromfile(f, dtype).reshape(shape)\n",
        "    return phantom"
      ],
      "execution_count": null,
      "outputs": []
    },
    {
      "cell_type": "markdown",
      "metadata": {
        "id": "6YuKRDRbGQpc"
      },
      "source": [
        "`read_phantom` reads a voxelized source (also called a phantom)\n",
        "\n",
        "**inputs:**\n",
        "- `path`: relative or full path of the file (`str`)\n",
        "- `shape`: dimensions of the phantom (`tuple`)\n",
        "- `dtype`: datatype (`type`)\n",
        "\n",
        "**output:**\n",
        "- `phantom`: voxelized source (`np.ndarray`)"
      ]
    },
    {
      "cell_type": "code",
      "metadata": {
        "id": "acfbM1XjGQpd"
      },
      "source": [
        "def show_phantom(phantom):\n",
        "    \n",
        "    with plt.rc_context({'figure.figsize':(16,4)}):\n",
        "        fig, axes = plt.subplots(ncols=3)\n",
        "        ax0, ax1, ax2 = axes\n",
        "        \n",
        "        # x-projection\n",
        "        im0 = ax0.imshow(np.sum(phantom, axis=0).T, origin='lower')\n",
        "        ax0.set_title('x-projection')\n",
        "        ax0.set_xlabel('iy')\n",
        "        ax0.set_ylabel('iz')\n",
        "        ax0.set_aspect('equal')\n",
        "        fig.colorbar(im0, ax=ax0)\n",
        "        \n",
        "        # y-projection\n",
        "        im1 = ax1.imshow(np.sum(phantom, axis=1).T, origin='lower')\n",
        "        ax1.set_title('y-projection')\n",
        "        ax1.set_xlabel('ix')\n",
        "        ax1.set_ylabel('iz')\n",
        "        ax1.set_aspect('equal')\n",
        "        fig.colorbar(im1, ax=ax1)\n",
        "        \n",
        "        # z-projection\n",
        "        im2 = ax2.imshow(np.sum(phantom, axis=2).T, origin='lower')\n",
        "        ax2.set_title('z-projection')\n",
        "        ax2.set_xlabel('ix')\n",
        "        ax2.set_ylabel('iy')\n",
        "        ax2.set_aspect('equal')\n",
        "        fig.colorbar(im2, ax=ax2)\n",
        "        \n",
        "        plt.show()"
      ],
      "execution_count": null,
      "outputs": []
    },
    {
      "cell_type": "markdown",
      "metadata": {
        "id": "wFx-0GpEGQpe"
      },
      "source": [
        "`show_phantom` displays the phantom\n",
        "\n",
        "**input:**\n",
        "- `phantom`: voxelized source (`np.ndarray`)"
      ]
    },
    {
      "cell_type": "markdown",
      "metadata": {
        "id": "UwxMERc2GQpf"
      },
      "source": [
        "### <font color='red'>Exercise 1: solution</font>"
      ]
    },
    {
      "cell_type": "code",
      "metadata": {
        "id": "Pi_BjsEOGQpg"
      },
      "source": [
        ""
      ],
      "execution_count": null,
      "outputs": []
    },
    {
      "cell_type": "markdown",
      "metadata": {
        "id": "Ewx7mspdGQpg"
      },
      "source": [
        "## 3.2. Simulating uniform emission\n",
        "\n",
        "To sample the angle of emission uniformly over the complete solid angle ($4\\pi$), we use the spherical\n",
        "coordinate system as defined in figure 3. When the PDF of the azimuthal angle $\\theta$ is chosen to be\n",
        "uniform, the PDF of the polar angle $\\phi$ will have to be weighted in order to obtain a uniform sampling\n",
        "over $4\\pi$ or, in other words, over the surface of the unit sphere.\n",
        "\n",
        "<img src=\"images/SphericalCoordinates.jpg\" width=\"300\"/>\n",
        "\n",
        "<center><i>Figure 3: Polar coordinate system with radial coordinate $r$, azimuthal angle $\\theta$ and polar angle $\\phi$.</i></center>\n",
        "\n",
        "### Sampling of $\\theta$\n",
        "\n",
        "The PDF for $\\theta$ is uniform and given by:\n",
        "\n",
        "$$PDF(\\theta) = \\frac{1}{\\theta_{max}}$$\n",
        "\n",
        "The constant value $1/\\theta_{max}$ is chosen so the CPD is normalized to 1, where $\\theta_{max}=2\\pi$. The Cumulative PDF (CPD) is then given by:\n",
        "\n",
        "$$CPD(\\theta) = \\int_{0}^{\\theta}{\\frac{1}{\\theta_{max}}d\\theta'} = \\frac{\\theta}{\\theta_{max}}$$\n",
        "\n",
        "We choose the random number $r_2$ ($0 \\leq r_2<1$) to be equal to the CPD:\n",
        "\n",
        "$$r_2 = CPD(\\theta) = \\frac{\\theta}{\\theta_{max}}$$\n",
        "\n",
        "so that $\\theta$ can be derived from the random number $r_2$:\n",
        "\n",
        "$$\\theta = r_2\\theta_{max}$$\n",
        "\n",
        "### Sampling of $\\phi$\n",
        "\n",
        "If the PDF of $\\phi$ would be uniform, the sampling of the surface of the unit sphere would be denser at the\n",
        "poles while becoming coarser toward the equator. In order to have a uniform sampling over the unit sphere, the PDF of the\n",
        "polar angle $\\phi$ has to be chosen proportional to the circumference of the circle on the unit sphere defined\n",
        "by $\\phi$ (see figure 3).\n",
        "\n",
        "$$PDF(\\phi) = \\text{circumference}(\\phi)$$\n",
        "\n",
        "Since we want the polar angle to be in between $-\\phi_{max}/2$ and $\\phi_{max}/2$, the normalization is calculated\n",
        "by:\n",
        "\n",
        "$$N_{PDF} = \\int_{-\\phi_{max}/2}^{\\phi_{max}/2}PDF(\\phi)d\\phi$$\n",
        "\n",
        "and the CPD then becomes:\n",
        "\n",
        "$$CPD(\\phi) = \\frac{1}{N_{PDF}}\\int_{-\\phi_{max}/2}^{\\phi}PDF(\\phi')d\\phi'$$\n",
        "\n",
        "Using above formulas, we can show that the sampling of $\\phi$ should be equal to:\n",
        "\n",
        "$$\\phi = \\arcsin[(2r_3-1)\\sin(\\phi_{max}/2)]$$\n",
        "\n",
        "with $r_3$ a uniformly chosen random number for which $0 \\leq r_3<1$."
      ]
    },
    {
      "cell_type": "markdown",
      "metadata": {
        "id": "s-J4F-rIGQph"
      },
      "source": [
        "## <font color='blue'>Exercise 2: sampling of $\\theta$ and $\\phi$</font>\n",
        "\n",
        "Simulate the sampling of $\\theta$ and $\\phi$ for $10^5$ emissions. Again make sure to use numpy to sample n angles at once rather than using a for loop. You can test your sampling with the function `test_spheresampling`.\n",
        "\n",
        "First choose $\\theta_{max}$ equal to $2\\pi$ and $\\phi_{max}$ equal to $\\pi$. Then play around with $\\theta_{max}$ and $\\phi_{max}$ but do not choose values above $2\\pi$ and $\\pi$ respectively. Now try to sample sample $\\phi$ 'naively', that is by using uniform sampling. What happens with the sphere sampling in this case?\n",
        "\n",
        "### <font color='blue'>Please include in your notebook:</font>\n",
        "- A plot of the sampling on the unit sphere for $\\theta_{max}=2\\pi$ and $\\phi_{max}=\\pi$.\n",
        "- Some additional plots of the sampling for different values of $\\theta_{max}$ and $\\phi_{max}$.\n",
        "- A plot of the sampling on the unit sphere where $\\phi$ was sampled uniformly (again using $\\theta_{max}=2\\pi$ and $\\phi_{max}=\\pi$).\n",
        "- A short explanation of what is happening in these cases.\n",
        "\n",
        "Make use of `test_spheresampling` to generate these plots."
      ]
    },
    {
      "cell_type": "markdown",
      "metadata": {
        "id": "X8D9gsslGQpj"
      },
      "source": [
        "### Provided functions:"
      ]
    },
    {
      "cell_type": "code",
      "metadata": {
        "id": "nD5sTybDGQpk"
      },
      "source": [
        "def test_spheresampling(theta, phi):\n",
        "    \n",
        "    # make sure we are using numpy arrays and not lists\n",
        "    theta = np.array(theta)\n",
        "    phi = np.array(phi)\n",
        "    \n",
        "    # convert spherical coordinates to cartesian coordinates\n",
        "    r = 1\n",
        "    rcos = r * np.cos(phi)\n",
        "    x = rcos * np.cos(theta)\n",
        "    y = rcos * np.sin(theta)\n",
        "    z = r * np.sin(phi)\n",
        "    \n",
        "    H, edges = np.histogramdd((x,y,z), bins=[np.linspace(-1.25,1.25,128)]*3)\n",
        "    \n",
        "    with plt.rc_context({'figure.figsize':(16,4)}):\n",
        "        fig, axes = plt.subplots(ncols=3)\n",
        "        ax0, ax1, ax2 = axes\n",
        "        \n",
        "        # x-projection\n",
        "        Y, Z = np.meshgrid(edges[1], edges[2])\n",
        "        im0 = ax0.pcolormesh(Y, Z, np.sum(H, axis=0).T)\n",
        "        ax0.set_title('x-projection')\n",
        "        ax0.set_xlabel('y')\n",
        "        ax0.set_ylabel('z')\n",
        "        ax0.set_aspect('equal')\n",
        "        fig.colorbar(im0, ax=ax0)\n",
        "        \n",
        "        # y-projection\n",
        "        X, Z = np.meshgrid(edges[0], edges[2])\n",
        "        im1 = ax1.pcolormesh(X, Z, np.sum(H, axis=1).T)\n",
        "        ax1.set_title('y-projection')\n",
        "        ax1.set_xlabel('x')\n",
        "        ax1.set_ylabel('z')\n",
        "        ax1.set_aspect('equal')\n",
        "        fig.colorbar(im1, ax=ax1)\n",
        "        \n",
        "        # z-projection\n",
        "        X, Y = np.meshgrid(edges[0], edges[1])\n",
        "        im2 = ax2.pcolormesh(X, Y, np.sum(H, axis=2).T)\n",
        "        ax2.set_title('z-projection')\n",
        "        ax2.set_xlabel('x')\n",
        "        ax2.set_ylabel('y')\n",
        "        ax2.set_aspect('equal')\n",
        "        fig.colorbar(im2, ax=ax2)\n",
        "        \n",
        "        plt.show()"
      ],
      "execution_count": null,
      "outputs": []
    },
    {
      "cell_type": "markdown",
      "metadata": {
        "id": "LsnICyMeGQpk"
      },
      "source": [
        "`test_spheresampling` visualizes the sampling on the unit sphere\n",
        "\n",
        "**inputs:**\n",
        "- `theta`: array of sampled $\\theta$ values (`np.ndarray`)\n",
        "- `phi`: array of sampled $\\phi$ values (`np.ndarray`)"
      ]
    },
    {
      "cell_type": "markdown",
      "metadata": {
        "id": "A2-DyIUyGQpl"
      },
      "source": [
        "### <font color='red'>Exercise 2: solution</font>"
      ]
    },
    {
      "cell_type": "code",
      "metadata": {
        "id": "UEUHX4-kGQpm"
      },
      "source": [
        ""
      ],
      "execution_count": null,
      "outputs": []
    },
    {
      "cell_type": "markdown",
      "metadata": {
        "id": "ZFtQaWLXGQpm"
      },
      "source": [
        "## 3.3 Sinogram acquisition\n",
        "\n",
        "### 3.3.1 Calculating intersection with collimator and detector\n",
        "\n",
        "Once the place of emission (x, y, z) and the emission angles $\\theta$ and $\\phi$ are sampled, we can calculate the\n",
        "intersection with the collimator and/or detector. After we choose a random detector angle $\\Theta$ (chosen uniformly around the z-axis), x and y become the rotated x’ and y’ and the angle $\\theta$ becomes $\\theta-\\Theta$. From figure 4 we calculate:\n",
        "\n",
        "$$ y_{det} = (radius-x') \\tan(\\theta-\\Theta) + y' $$\n",
        "\n",
        "$$ z_{det} = (radius-x') \\frac{\\tan(\\phi)}{\\cos(\\theta-\\Theta)} + z $$\n",
        "\n",
        "Calculating the collimator coordinates is very similar. We only have to subtract the collimator height from the radius:\n",
        "\n",
        "$$ y_{coll} = (radius-height-x') \\tan(\\theta-\\Theta) + y' $$\n",
        "$$ z_{coll} = (radius-height-x') \\frac{\\tan(\\phi)}{\\cos(\\theta-\\Theta)} + z $$\n",
        "\n",
        "with:\n",
        "\n",
        "$$ x' = x\\cos(\\Theta) + y\\sin(\\Theta) $$\n",
        "$$ y' = y\\cos(\\Theta) - x\\sin(\\Theta) $$\n",
        "\n",
        "<table>\n",
        "    <tr>\n",
        "        <td><img src=\"images/detector_y.jpg\" width=\"400\"/><figcaption><center>(a)</center></figcaption></td>\n",
        "        <td><img src=\"images/detector_z.jpg\" width=\"400\"/><figcaption><center>(b)</center></figcaption></td>\n",
        "    </tr>\n",
        "</table>\n",
        "\n",
        "<center><i>Figure 4: (a) The geometry to calculate y_det. (b) The geometry to calculate z_det.</i></center>\n",
        "\n",
        "### 3.3.2. Check if the photon passed the collimator\n",
        "\n",
        "If the photon intersects with both the detector and collimator, we should check whether the photon was able to fly through one of the collimator holes. This is done by dividing both the detector and collimator coordinates (respectively $(y_{det},z_{det})$ and $(y_{coll},z_{coll})$) by the hole size. If we round both divisions and they are equal, both $(y_{det},z_{det})$ and $(y_{coll},z_{coll})$ lie within the same collimator hole. This results in a photon that passed the collimator. These conditions are:\n",
        "\n",
        "$$ \\left\\lfloor{\\frac{y_{det}}{hole\\_size}}\\right\\rfloor == \\left\\lfloor{\\frac{y_{coll}}{hole\\_size}}\\right\\rfloor $$\n",
        "\n",
        "$$ \\left\\lfloor{\\frac{z_{det}}{hole\\_size}}\\right\\rfloor == \\left\\lfloor{\\frac{z_{coll}}{hole\\_size}}\\right\\rfloor $$"
      ]
    },
    {
      "cell_type": "markdown",
      "metadata": {
        "id": "q5n_r9PgGQpn"
      },
      "source": [
        "## <font color='blue'>Exercise 3: full Monte Carlo simulation</font>\n",
        "\n",
        "Read in the 128 × 128 × 128 \"phantoms/mcatnohdr.bin\" image in `np.int16` format. Perform a SPECT Monte Carlo simulation of this phantom as explained troughout the notebook. You will have to reuse your code to generate the CPD, sample the source, sample $\\theta$ and sample $\\phi$. Additionally, you will have to sample the detector angle $\\Theta$ uniformly from 0 to $2\\pi$. Use the function `vox2pos` defined below to obtain the absolute coordinates (x, y, z) of the sampled voxels. Additional functions implementing the above conditions for photon detection are also provided.\n",
        "\n",
        "Use $10^6$ emissions, $\\theta_{max}=2\\pi$, $\\phi_{max}=\\pi/20$, $\\Theta_{max}=2\\pi$, detector sizes (y and z) 128, detector radius 150, collimator height 25 and hole size 1. Finally, use the function `generate_sinogram` to convert the calculated/sampled values of $y_{det}$, $z_{det}$ and $\\Theta$ into a 3D sinogram (with axes corresponding to $y_{det}$, $z_{det}$ and $\\Theta$), **making sure to only include those events that obey the above conditions for photon detection.** Use 90 detection angles spread over the full $2\\pi$ range for the sinogram.\n",
        "\n",
        "Take a look at the sinogram of the center slice along the detector z-axis: `sinogram[:,64,:]`. As you will see, we do not have many detections. In order to obtain a decent sinogram with enough statistics, we would need a lot more counts. Since we do not have time to wait for a long simulation, simulate a point source as follows:\n",
        "\n",
        "`phantom = np.zeros((128,128,128))` \n",
        "\n",
        "`phantom[96,96,64] = 1`\n",
        "\n",
        "Redo the Monte Carlo simulation and count the number of detections (total over all slices, so the full 3D sinogram) and take a look at the aforementioned center slice of the sinogram.\n",
        "\n",
        "Now change the collimator hole size to 9. What happens with the number of detections and the sinogram? Explain!\n",
        "\n",
        "### <font color='blue'>Please include in your notebook:</font>\n",
        "- A plot of both sinograms (center slice only) **of the point source** (for hole size 1 as well as for hole size 9).\n",
        "- The total (over the full 3D sinogram) number of detections in both cases.\n",
        "- Motivate why you observe this (think about sensitivity vs resolution)."
      ]
    },
    {
      "cell_type": "markdown",
      "metadata": {
        "id": "8vPyAVpSGQpo"
      },
      "source": [
        "### Provided functions:"
      ]
    },
    {
      "cell_type": "code",
      "metadata": {
        "id": "9ho6CSefGQpo"
      },
      "source": [
        "def vox2pos(voxels, shape=(128,128,128)):\n",
        "    positions = tuple(ind - s/2 + np.random.rand(len(ind)) for ind, s in zip(voxels, shape))\n",
        "    return positions"
      ],
      "execution_count": null,
      "outputs": []
    },
    {
      "cell_type": "markdown",
      "metadata": {
        "id": "Sp9aTHHRGQpp"
      },
      "source": [
        "`vox2pos` finds the absolute locations `(x,y,z)` of voxels `(ix,iy,iz)` in 3D Cartesian coordinates. It also randomizes the point of emission uniformly inside the voxel itself.\n",
        "\n",
        "**inputs:**\n",
        "- `voxels`: tuple of lists of voxel indices `([ix0, ix1, ...], [iy0, iy1, ...], [iz0, iz1, ...])`\n",
        "- `shape`: dimensions of the phantom (`tuple`)\n",
        "\n",
        "**output:**\n",
        "- `positions`: tuple of lists of emission coordinates `([x0, x1, ...], [y0, y1, ...], [z0, z1, ...])`"
      ]
    },
    {
      "cell_type": "code",
      "metadata": {
        "id": "2QI5ywICGQpp"
      },
      "source": [
        "def hit_detector(x, y, z, theta, phi, Theta, size_y=128, size_z=128, radius=150):\n",
        "    x_rot = x*np.cos(Theta) + y*np.sin(Theta)\n",
        "    y_rot = y*np.cos(Theta) - x*np.sin(Theta)\n",
        "    y_det = (radius-x_rot) * np.tan(theta-Theta) + y_rot\n",
        "    z_det = (radius-x_rot) * np.tan(phi) / np.cos(theta-Theta) + z\n",
        "    det_flag = (-size_y/2 <= y_det) & (y_det <= size_y/2) & (-size_z/2 <= z_det) & (z_det <= size_z/2)\n",
        "    return det_flag, y_det, z_det"
      ],
      "execution_count": null,
      "outputs": []
    },
    {
      "cell_type": "markdown",
      "metadata": {
        "id": "5Yh0JFHcGQpr"
      },
      "source": [
        "`hit_detector` calculates the detector intersection coordinates and checks whether the point\n",
        "lies within the boundaries of the detector. Inputs of type `np.ndarray` should consist of a numpy array containing the sampled values for n events.\n",
        "\n",
        "**inputs:**\n",
        "- `x`: x-coordinates of the emissions (`np.ndarray`)\n",
        "- `y`: y-coordinates of the emissions (`np.ndarray`)\n",
        "- `z`: z-coordinates of the emissions (`np.ndarray`)\n",
        "- `theta`: emission angles $\\theta$ (`np.ndarray`)\n",
        "- `phi`: emission angles $\\phi$ (`np.ndarray`)\n",
        "- `Theta`: detector angles $\\Theta$ (`np.ndarray`)\n",
        "- `size_y`: detector size y (`float`)\n",
        "- `size_z`: detector size z (`float`)\n",
        "- `radius`: detector radius (`float`)\n",
        "\n",
        "**outputs:**\n",
        "- `det_flag`: array of booleans corresponding to hits that fall within the boundaries of the detector (`np.ndarray`)\n",
        "- `y_det`: array of detector intersection coordinates $y_{det}$ (`np.ndarray`)\n",
        "- `z_det`: array of detector intersection coordinates $z_{det}$ (`np.ndarray`)"
      ]
    },
    {
      "cell_type": "code",
      "metadata": {
        "id": "CXhHOqR4GQpr"
      },
      "source": [
        "def hit_collimator(x, y, z, theta, phi, Theta, size_y=128, size_z=128, radius=150, height=25):\n",
        "    x_rot = x*np.cos(Theta) + y*np.sin(Theta)\n",
        "    y_rot = y*np.cos(Theta) - x*np.sin(Theta)\n",
        "    y_coll = (radius-height-x_rot) * np.tan(theta-Theta) + y_rot\n",
        "    z_coll = (radius-height-x_rot) * np.tan(phi) / np.cos(theta-Theta) + z\n",
        "    coll_flag = (-size_y/2 <= y_coll) & (y_coll <= size_y/2) & (-size_z/2 <= z_coll) & (z_coll <= size_z/2)\n",
        "    return coll_flag, y_coll, z_coll"
      ],
      "execution_count": null,
      "outputs": []
    },
    {
      "cell_type": "markdown",
      "metadata": {
        "id": "IGsYnMgRGQpr"
      },
      "source": [
        "`hit_collimator` calculates the collimator intersection coordinates and checks whether the point\n",
        "lies within the boundaries of the collimator. Inputs of type `np.ndarray` should consist of a numpy array containing the sampled values for n events.\n",
        "\n",
        "**inputs:**\n",
        "- `x`: x-coordinates of the emissions (`np.ndarray`)\n",
        "- `y`: y-coordinates of the emissions (`np.ndarray`)\n",
        "- `z`: z-coordinates of the emissions (`np.ndarray`)\n",
        "- `theta`: emission angles $\\theta$ (`np.ndarray`)\n",
        "- `phi`: emission angles $\\phi$ (`np.ndarray`)\n",
        "- `Theta`: detector angles $\\Theta$ (`np.ndarray`)\n",
        "- `size_y`: detector size y (`float`)\n",
        "- `size_z`: detector size z (`float`)\n",
        "- `radius`: detector radius (`float`)\n",
        "- `height`: collimator height (`float`)\n",
        "\n",
        "**outputs:**\n",
        "- `det_flag`: array of booleans corresponding to hits that fall within the boundaries of the collimator (`np.ndarray`)\n",
        "- `y_col`: array of collimator intersection coordinates $y_{col}$ (`np.ndarray`)\n",
        "- `z_col`: array of collimator intersection coordinates $z_{col}$ (`np.ndarray`)"
      ]
    },
    {
      "cell_type": "code",
      "metadata": {
        "id": "cRvq8YSQGQps"
      },
      "source": [
        "def pass_collimator(y_det, z_det, y_coll, z_coll, hole_size):\n",
        "    y_det_hole = np.floor(y_det/hole_size)\n",
        "    z_det_hole = np.floor(z_det/hole_size)\n",
        "    y_coll_hole = np.floor(y_coll/hole_size)\n",
        "    z_coll_hole = np.floor(z_coll/hole_size)\n",
        "    pass_flag = (y_coll_hole==y_det_hole) & (z_coll_hole==z_det_hole)\n",
        "    return pass_flag"
      ],
      "execution_count": null,
      "outputs": []
    },
    {
      "cell_type": "markdown",
      "metadata": {
        "id": "grfYRAHUGQps"
      },
      "source": [
        "`pass_collimator` determines whether the photon passed the collimator or not\n",
        "\n",
        "**inputs:**\n",
        "- `y_det`: detector intersection coordinates $y_{det}$ (`np.ndarray`)\n",
        "- `z_det`: detector intersection coordinates $z_{det}$ (`np.ndarray`)\n",
        "- `y_coll`: collimator intersection coordinates $y_{coll}$ (`np.ndarray`)\n",
        "- `z_coll`: collimator intersection coordinates $z_{coll}$ (`np.ndarray`)\n",
        "- `hole_size`: hole size of the collimator (`float`)\n",
        "\n",
        "**outputs:**\n",
        "- `pass_flag`: array of booleans corresponding to hits that pass the collimator (`np.ndarray`)"
      ]
    },
    {
      "cell_type": "code",
      "metadata": {
        "id": "bpxzZXQ6GQpt"
      },
      "source": [
        "def generate_sinogram(y_det, z_det, Theta, size_y=128, size_z=128, num_angles=90):\n",
        "    angle_step = 2*np.pi / num_angles\n",
        "    iy_det = (y_det + size_y/2).astype(int)\n",
        "    iz_det = (z_det + size_z/2).astype(int)\n",
        "    angle_det = (Theta/angle_step).astype(int)\n",
        "    sinogram = np.zeros((size_y,size_z,num_angles)) \n",
        "    for iy, iz, angle in zip(iy_det, iz_det, angle_det):\n",
        "        sinogram[iy,iz,angle] += 1\n",
        "    return sinogram"
      ],
      "execution_count": null,
      "outputs": []
    },
    {
      "cell_type": "markdown",
      "metadata": {
        "id": "QfuO2j5jGQpt"
      },
      "source": [
        "`generate_sinogram` generates the 3D sinogram of the detected events\n",
        "\n",
        "**inputs:**\n",
        "- `y_det`: array of detector intersection coordinates $y_{det}$ (`np.ndarray`)\n",
        "- `z_det`: array of detector intersection coordinates $z_{det}$ (`np.ndarray`)\n",
        "- `Theta`: array of detector angles $\\Theta$ (`np.ndarray`)\n",
        "- `size_y`: detector size y (`float`)\n",
        "- `size_z`: detector size z (`float`)\n",
        "- `angle_step`: angular step size of the sinogram in radians (`float`)\n",
        "\n",
        "**outputs:**\n",
        "- `sinogram`: the 3D sinogram (`np.ndarray`)"
      ]
    },
    {
      "cell_type": "markdown",
      "metadata": {
        "id": "YGyHa3pRGQpu"
      },
      "source": [
        "### <font color='red'>Exercise 3: solution</font>"
      ]
    },
    {
      "cell_type": "code",
      "metadata": {
        "id": "RJmhYh-SGQpu"
      },
      "source": [
        ""
      ],
      "execution_count": null,
      "outputs": []
    }
  ]
}